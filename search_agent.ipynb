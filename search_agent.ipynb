{
 "cells": [
  {
   "cell_type": "code",
   "execution_count": 1,
   "metadata": {},
   "outputs": [],
   "source": [
    "import os\n",
    "import json\n",
    "\n",
    "MAX_THEOREMS = 10\n",
    "\n",
    "class GetTheorem:\n",
    "    def __init__(self):\n",
    "        self.tasks = []\n",
    "        file_path = os.path.join(\"dataprep\", \"1hop_trueontology_formalized.json\")\n",
    "        with open(file_path, \"r\") as file:\n",
    "            json_theorems = json.load(file)\n",
    "            for i in range(1, MAX_THEOREMS + 1):\n",
    "                self.tasks.append(json_theorems['example' + str(i)]['test_example']['formalized'])\n",
    "\n",
    "    def get_theorem(self, theorem = 1):\n",
    "        return self.tasks[theorem-1]\n",
    "\n",
    "    "
   ]
  },
  {
   "cell_type": "code",
   "execution_count": 2,
   "metadata": {},
   "outputs": [],
   "source": [
    "import gymnasium as gym\n",
    "import logic_gym\n",
    "import graphviz"
   ]
  },
  {
   "cell_type": "code",
   "execution_count": 3,
   "metadata": {},
   "outputs": [],
   "source": [
    "get_theorem = GetTheorem()\n",
    "\n",
    "theorem = get_theorem.get_theorem(1)\n"
   ]
  },
  {
   "cell_type": "code",
   "execution_count": 4,
   "metadata": {},
   "outputs": [
    {
     "data": {
      "text/plain": [
       "'sample_graph.png'"
      ]
     },
     "execution_count": 4,
     "metadata": {},
     "output_type": "execute_result"
    }
   ],
   "source": [
    "dot = graphviz.Digraph()\n",
    "\n",
    "# Adding nodes\n",
    "for level in range(1, 6):\n",
    "    dot.node(str(level), f\"Node {level}\")\n",
    "\n",
    "# Adding edges\n",
    "# dot.edges(['12', '23', '34', '45', '51'])\n",
    "dot.edge(\"1\", \"2\", \"12\")\n",
    "dot.edge(\"2\", \"3\")\n",
    "dot.edge(\"3\", \"4\")\n",
    "dot.edge(\"4\", \"5\")\n",
    "dot.edge(\"5\", \"1\")\n",
    "\n",
    "# Render the graph\n",
    "dot.render(\"sample_graph\", format=\"png\", view=False)"
   ]
  },
  {
   "cell_type": "code",
   "execution_count": 5,
   "metadata": {},
   "outputs": [],
   "source": [
    "class Node:\n",
    "    def __init__(\n",
    "        self,\n",
    "        index,\n",
    "        level,\n",
    "        observation_before,\n",
    "        action,\n",
    "        observation_after,\n",
    "        is_done,\n",
    "        terminated,\n",
    "        truncated,\n",
    "        proof,\n",
    "        parent=None,\n",
    "        children= None,\n",
    "        reward=0,\n",
    "        logic_gym_state=None,\n",
    "    ):\n",
    "        self.index = index\n",
    "        self.level = level\n",
    "        self.observation_before = observation_before\n",
    "        self.action = action\n",
    "        self.observation_after = observation_after\n",
    "        self.is_done = is_done\n",
    "        self.terminated = terminated\n",
    "        self.truncated = truncated\n",
    "        self.proof = proof\n",
    "        self.parent = parent\n",
    "        self.children = children if children is not None else []\n",
    "        self.reward = reward\n",
    "        self.logic_gym_state=logic_gym_state\n",
    "\n",
    "\n",
    "    def add_child(self, child_node):\n",
    "        self.children.append(child_node)\n",
    "        child_node.parent = self\n",
    "    def __str__(self) -> str:\n",
    "        return f\"Node {self.index} at level {self.level} with action {self.action} and reward {self.reward}\""
   ]
  },
  {
   "cell_type": "code",
   "execution_count": 6,
   "metadata": {},
   "outputs": [],
   "source": [
    "def prove_theorem_by_search(env, depth = 3, exit_on_proof = False):\n",
    "    root = Node(\n",
    "        index=0,\n",
    "        level=0,\n",
    "        observation_before=None,\n",
    "        action=None,\n",
    "        observation_after=env.reset(),\n",
    "        is_done=False,\n",
    "        terminated=False,\n",
    "        truncated=False,\n",
    "        proof=None,\n",
    "    )\n",
    "    root.logic_gym_state = env.unwrapped.get_state()\n",
    "    nodes = [root]\n",
    "    nodes_by_level = {level: [] for level in range(depth + 1)}\n",
    "    nodes_by_level[0] = [root]\n",
    "    \n",
    "    index = 1\n",
    "    \n",
    "    \n",
    "    for level in range(depth-1):\n",
    "        for node in nodes_by_level[level]:\n",
    "            for action in env.unwrapped.get_all_actions():\n",
    "                # print(node.index, node.level, action)\n",
    "                # print(node.logic_gym_state)\n",
    "                env.unwrapped.set_state(node.logic_gym_state)\n",
    "                # print(node.index, node.level)\n",
    "                # print(node.logic_gym_state[\"state\"])\n",
    "                # print(\"--------------------------------------\")\n",
    "                observation, reward, terminated,truncated, info = env.unwrapped.step(action)\n",
    "                if info[\"bad_action\"]: # check if the action is valid\n",
    "                    continue\n",
    "                \n",
    "                is_done = terminated or truncated\n",
    "                state = env.unwrapped.get_state()   \n",
    "                child = Node(\n",
    "                    index=index,\n",
    "                    level=node.level + 1,\n",
    "                    observation_before=node.observation_after,\n",
    "                    action=action,\n",
    "                    observation_after=observation,\n",
    "                    is_done=is_done,\n",
    "                    terminated=terminated,\n",
    "                    truncated=truncated,\n",
    "                    proof=state[\"state\"],\n",
    "                    reward=reward,\n",
    "                    logic_gym_state=state,\n",
    "                    parent=node,\n",
    "                )\n",
    "                if terminated:\n",
    "                    print(\"proof found\")\n",
    "                    print(child.proof)\n",
    "                    \n",
    "                index += 1\n",
    "                node.add_child(child)\n",
    "                nodes_by_level[level+1].append(child)\n",
    "                if is_done and exit_on_proof:\n",
    "                    break\n",
    "            if is_done and exit_on_proof:\n",
    "                break\n",
    "        if is_done and exit_on_proof:\n",
    "            break\n",
    "    return root, nodes_by_level\n",
    "    \n",
    "\n",
    "    \n",
    "    "
   ]
  },
  {
   "cell_type": "code",
   "execution_count": 7,
   "metadata": {},
   "outputs": [
    {
     "name": "stderr",
     "output_type": "stream",
     "text": [
      "/home/akash/anaconda3/envs/fol/lib/python3.11/site-packages/gymnasium/core.py:311: UserWarning: \u001b[33mWARN: env.set_task to get variables from other wrappers is deprecated and will be removed in v1.0, to get this variable you can do `env.unwrapped.set_task` for environment variables or `env.get_wrapper_attr('set_task')` that will search the reminding wrappers.\u001b[0m\n",
      "  logger.warn(\n"
     ]
    },
    {
     "name": "stdout",
     "output_type": "stream",
     "text": [
      "proof found\n",
      "Ax.(Cat(x) -> Feline(x))                                      (0)  Given\n",
      "Ax.(Feline(x) -> Carnivore(x))                                (1)  Given\n",
      "Ax.(Carnivore(x) -> ~Herbivorous(x))                          (2)  Given\n",
      "Ax.(Snake(x) -> ~WarmBlooded(x))                              (3)  Given\n",
      "Ax.(Carnivore(x) -> Mammal(x))                                (4)  Given\n",
      "Ax.(Mammal(x) -> WarmBlooded(x))                              (5)  Given\n",
      "Ax.(Mammal(x) -> Vertebrate(x))                               (6)  Given\n",
      "Ax.(Vertebrate(x) -> Animal(x))                               (7)  Given\n",
      "Ax.(Animal(x) -> Multicellular(x))                            (8)  Given\n",
      "Mammal(Sally)                                                 (9)  Given\n",
      "WarmBlooded(Sally)                                           (10)  Goal\n",
      "Mammal(Sally) -> WarmBlooded(Sally)                          (11)  A-Elimination (5), with Sally\n",
      "WarmBlooded(Sally)                                           (12)  Implication-Elimination (Modus Ponens) (11) (9)\n",
      "\n",
      "Node 0 at level 0 with action None and reward 0\n"
     ]
    }
   ],
   "source": [
    "env = gym.make(\"logic_gym/LogicGym-v0\")\n",
    "\n",
    "env.set_task(theorem)\n",
    "\n",
    "\n",
    "root, nodes_by_level = prove_theorem_by_search(env, depth=3, exit_on_proof=False)\n",
    "\n",
    "print(root)"
   ]
  },
  {
   "cell_type": "code",
   "execution_count": 8,
   "metadata": {},
   "outputs": [],
   "source": [
    "def BFS(root, dot):\n",
    "    queue = [root]\n",
    "    while queue:\n",
    "        node = queue.pop(0)\n",
    "        dot.node(str(node.index), f\"Node {node.index}, terminal: {node.terminated}\")\n",
    "        if node.parent is not None:\n",
    "            dot.edge(str(node.parent.index), str(node.index), f\"Action: {node.action}\")\n",
    "        print(node)\n",
    "        queue.extend(node.children)\n"
   ]
  },
  {
   "cell_type": "code",
   "execution_count": 9,
   "metadata": {},
   "outputs": [
    {
     "name": "stdout",
     "output_type": "stream",
     "text": [
      "Node 0 at level 0 with action None and reward 0\n",
      "Node 1 at level 1 with action [0, 7, 0, 0] and reward 0\n",
      "Node 2 at level 1 with action [0, 2, 0, 0] and reward 0\n",
      "Node 3 at level 1 with action [0, 8, 0, 0] and reward 0\n",
      "Node 4 at level 1 with action [0, 6, 0, 0] and reward 0\n",
      "Node 5 at level 1 with action [0, 1, 0, 0] and reward 0\n",
      "Node 6 at level 1 with action [0, 5, 0, 0] and reward 0\n",
      "Node 7 at level 1 with action [0, 4, 0, 0] and reward 0\n",
      "Node 8 at level 1 with action [0, 3, 0, 0] and reward 0\n",
      "Node 9 at level 1 with action [0, 0, 0, 0] and reward 0\n",
      "Node 10 at level 2 with action [0, 3, 0, 0] and reward 0\n",
      "Node 11 at level 2 with action [0, 7, 0, 0] and reward 0\n",
      "Node 12 at level 2 with action [0, 0, 0, 0] and reward 0\n",
      "Node 13 at level 2 with action [0, 6, 0, 0] and reward 0\n",
      "Node 14 at level 2 with action [0, 1, 0, 0] and reward 0\n",
      "Node 15 at level 2 with action [0, 8, 0, 0] and reward 0\n",
      "Node 16 at level 2 with action [0, 4, 0, 0] and reward 0\n",
      "Node 17 at level 2 with action [0, 2, 0, 0] and reward 0\n",
      "Node 18 at level 2 with action [0, 5, 0, 0] and reward 0\n",
      "Node 19 at level 2 with action [0, 8, 0, 0] and reward 0\n",
      "Node 20 at level 2 with action [0, 1, 0, 0] and reward 0\n",
      "Node 21 at level 2 with action [0, 3, 0, 0] and reward 0\n",
      "Node 22 at level 2 with action [0, 7, 0, 0] and reward 0\n",
      "Node 23 at level 2 with action [0, 4, 0, 0] and reward 0\n",
      "Node 24 at level 2 with action [0, 6, 0, 0] and reward 0\n",
      "Node 25 at level 2 with action [0, 5, 0, 0] and reward 0\n",
      "Node 26 at level 2 with action [0, 0, 0, 0] and reward 0\n",
      "Node 27 at level 2 with action [0, 2, 0, 0] and reward 0\n",
      "Node 28 at level 2 with action [0, 5, 0, 0] and reward 0\n",
      "Node 29 at level 2 with action [0, 1, 0, 0] and reward 0\n",
      "Node 30 at level 2 with action [0, 0, 0, 0] and reward 0\n",
      "Node 31 at level 2 with action [0, 3, 0, 0] and reward 0\n",
      "Node 32 at level 2 with action [0, 8, 0, 0] and reward 0\n",
      "Node 33 at level 2 with action [0, 2, 0, 0] and reward 0\n",
      "Node 34 at level 2 with action [0, 6, 0, 0] and reward 0\n",
      "Node 35 at level 2 with action [0, 4, 0, 0] and reward 0\n",
      "Node 36 at level 2 with action [0, 7, 0, 0] and reward 0\n",
      "Node 37 at level 2 with action [0, 8, 0, 0] and reward 0\n",
      "Node 38 at level 2 with action [0, 2, 0, 0] and reward 0\n",
      "Node 39 at level 2 with action [0, 3, 0, 0] and reward 0\n",
      "Node 40 at level 2 with action [1, 11, 9, 0] and reward 0\n",
      "Node 41 at level 2 with action [0, 4, 0, 0] and reward 0\n",
      "Node 42 at level 2 with action [0, 6, 0, 0] and reward 0\n",
      "Node 43 at level 2 with action [0, 5, 0, 0] and reward 0\n",
      "Node 44 at level 2 with action [0, 7, 0, 0] and reward 0\n",
      "Node 45 at level 2 with action [0, 1, 0, 0] and reward 0\n",
      "Node 46 at level 2 with action [0, 0, 0, 0] and reward 0\n",
      "Node 47 at level 2 with action [0, 2, 0, 0] and reward 0\n",
      "Node 48 at level 2 with action [0, 3, 0, 0] and reward 0\n",
      "Node 49 at level 2 with action [0, 4, 0, 0] and reward 0\n",
      "Node 50 at level 2 with action [0, 5, 0, 0] and reward 0\n",
      "Node 51 at level 2 with action [0, 6, 0, 0] and reward 0\n",
      "Node 52 at level 2 with action [0, 1, 0, 0] and reward 0\n",
      "Node 53 at level 2 with action [0, 8, 0, 0] and reward 0\n",
      "Node 54 at level 2 with action [0, 0, 0, 0] and reward 0\n",
      "Node 55 at level 2 with action [0, 7, 0, 0] and reward 0\n",
      "Node 56 at level 2 with action [0, 8, 0, 0] and reward 0\n",
      "Node 57 at level 2 with action [1, 11, 9, 0] and reward 1\n",
      "Node 58 at level 2 with action [0, 0, 0, 0] and reward 0\n",
      "Node 59 at level 2 with action [0, 6, 0, 0] and reward 0\n",
      "Node 60 at level 2 with action [0, 3, 0, 0] and reward 0\n",
      "Node 61 at level 2 with action [0, 5, 0, 0] and reward 0\n",
      "Node 62 at level 2 with action [0, 7, 0, 0] and reward 0\n",
      "Node 63 at level 2 with action [0, 1, 0, 0] and reward 0\n",
      "Node 64 at level 2 with action [0, 4, 0, 0] and reward 0\n",
      "Node 65 at level 2 with action [0, 2, 0, 0] and reward 0\n",
      "Node 66 at level 2 with action [0, 1, 0, 0] and reward 0\n",
      "Node 67 at level 2 with action [0, 8, 0, 0] and reward 0\n",
      "Node 68 at level 2 with action [0, 4, 0, 0] and reward 0\n",
      "Node 69 at level 2 with action [0, 3, 0, 0] and reward 0\n",
      "Node 70 at level 2 with action [0, 7, 0, 0] and reward 0\n",
      "Node 71 at level 2 with action [0, 2, 0, 0] and reward 0\n",
      "Node 72 at level 2 with action [0, 6, 0, 0] and reward 0\n",
      "Node 73 at level 2 with action [0, 5, 0, 0] and reward 0\n",
      "Node 74 at level 2 with action [0, 0, 0, 0] and reward 0\n",
      "Node 75 at level 2 with action [0, 8, 0, 0] and reward 0\n",
      "Node 76 at level 2 with action [0, 3, 0, 0] and reward 0\n",
      "Node 77 at level 2 with action [0, 0, 0, 0] and reward 0\n",
      "Node 78 at level 2 with action [0, 5, 0, 0] and reward 0\n",
      "Node 79 at level 2 with action [0, 1, 0, 0] and reward 0\n",
      "Node 80 at level 2 with action [0, 7, 0, 0] and reward 0\n",
      "Node 81 at level 2 with action [0, 2, 0, 0] and reward 0\n",
      "Node 82 at level 2 with action [0, 4, 0, 0] and reward 0\n",
      "Node 83 at level 2 with action [0, 6, 0, 0] and reward 0\n",
      "Node 84 at level 2 with action [0, 6, 0, 0] and reward 0\n",
      "Node 85 at level 2 with action [0, 2, 0, 0] and reward 0\n",
      "Node 86 at level 2 with action [0, 8, 0, 0] and reward 0\n",
      "Node 87 at level 2 with action [0, 0, 0, 0] and reward 0\n",
      "Node 88 at level 2 with action [0, 1, 0, 0] and reward 0\n",
      "Node 89 at level 2 with action [0, 7, 0, 0] and reward 0\n",
      "Node 90 at level 2 with action [0, 4, 0, 0] and reward 0\n",
      "Node 91 at level 2 with action [0, 5, 0, 0] and reward 0\n",
      "Node 92 at level 2 with action [0, 3, 0, 0] and reward 0\n"
     ]
    },
    {
     "data": {
      "text/plain": [
       "'sample_graph.png'"
      ]
     },
     "execution_count": 9,
     "metadata": {},
     "output_type": "execute_result"
    }
   ],
   "source": [
    "dot = graphviz.Digraph()\n",
    "BFS(root, dot)\n",
    "dot.render(\"sample_graph\", format=\"png\", view=False)"
   ]
  },
  {
   "cell_type": "code",
   "execution_count": 10,
   "metadata": {},
   "outputs": [
    {
     "data": {
      "text/plain": [
       "9"
      ]
     },
     "execution_count": 10,
     "metadata": {},
     "output_type": "execute_result"
    }
   ],
   "source": [
    "len(root.children)"
   ]
  }
 ],
 "metadata": {
  "kernelspec": {
   "display_name": "fol",
   "language": "python",
   "name": "python3"
  },
  "language_info": {
   "codemirror_mode": {
    "name": "ipython",
    "version": 3
   },
   "file_extension": ".py",
   "mimetype": "text/x-python",
   "name": "python",
   "nbconvert_exporter": "python",
   "pygments_lexer": "ipython3",
   "version": "3.11.9"
  }
 },
 "nbformat": 4,
 "nbformat_minor": 2
}
