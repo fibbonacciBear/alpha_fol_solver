{
 "cells": [
  {
   "cell_type": "code",
   "execution_count": 7,
   "metadata": {},
   "outputs": [],
   "source": [
    "import sys\n",
    "\n",
    "PACKAGE_HOME = \"../../alpha_fol_solver\"\n",
    "sys.path.append(f\"{PACKAGE_HOME}\")\n",
    "\n",
    "from gym_natural_deduction import FlipWrapper\n"
   ]
  },
  {
   "cell_type": "code",
   "execution_count": 8,
   "metadata": {},
   "outputs": [
    {
     "name": "stdout",
     "output_type": "stream",
     "text": [
      "['# check_proof(axioms)', 'rapply(Ae, 1, Max)', 'rapply(imple, 7, 6)', 'rapply(Ae, 2, Max)', 'rapply(imple, 9, 8)', 'rapply(Ae, 3, Max)', 'rapply(imple, 11, 10)', 'rapply(Ae, 4, Max)', 'rapply(imple, 13, 12)', 'rapply(Ae, 5, Max)', 'rapply(imple, 15, 14)']\n"
     ]
    }
   ],
   "source": [
    "\n",
    "axioms = \"\"\"\n",
    "Max = Variable(\"Max\")\n",
    "\n",
    "\n",
    "class yumpus(Relation):\n",
    "    def __init__(self, *args):  # seq of args\n",
    "        Relation.__init__(self, *args)\n",
    "        \n",
    "\n",
    "class dumpus(Relation):\n",
    "    def __init__(self, *args):  # seq of args\n",
    "        Relation.__init__(self, *args)\n",
    "        \n",
    "\n",
    "class wumpus(Relation):\n",
    "    def __init__(self, *args):  # seq of args\n",
    "        Relation.__init__(self, *args)\n",
    "        \n",
    "\n",
    "class impus(Relation):\n",
    "    def __init__(self, *args):  # seq of args\n",
    "        Relation.__init__(self, *args)\n",
    "        \n",
    "\n",
    "class timpus(Relation):\n",
    "    def __init__(self, *args):  # seq of args\n",
    "        Relation.__init__(self, *args)\n",
    "        \n",
    "\n",
    "class sour(Relation):\n",
    "    def __init__(self, *args):  # seq of args\n",
    "        Relation.__init__(self, *args)\n",
    "        \n",
    "checkp(Text(\"test2\"), comment)\n",
    "checkp(A(x, Impl(yumpus(x), (dumpus(x)))), given)\n",
    "checkp(A(x, Impl(dumpus(x), (wumpus(x)))), given)\n",
    "checkp(A(x, Impl(wumpus(x), (impus(x)))), given)\n",
    "checkp(A(x, Impl(impus(x), (timpus(x)))), given)\n",
    "checkp(A(x, Impl(timpus(x), Not(sour(x)))), given)\n",
    "checkp(yumpus(Max), given)\n",
    "\n",
    "\n",
    "\"\"\"\n",
    "axioms_list = axioms.strip().split('\\n')\n",
    "\n",
    "axioms_list = [elem if not elem.isspace() else \"\" for elem in axioms_list]\n",
    "\n",
    "proof = \"\"\"\n",
    "\n",
    "# check_proof(axioms)\n",
    "rapply(Ae, 1, Max)\n",
    "rapply(imple, 7, 6)\n",
    "rapply(Ae, 2, Max)\n",
    "rapply(imple, 9, 8)\n",
    "rapply(Ae, 3, Max)\n",
    "rapply(imple, 11, 10)\n",
    "rapply(Ae, 4, Max)\n",
    "rapply(imple, 13, 12)\n",
    "rapply(Ae, 5, Max)\n",
    "rapply(imple, 15, 14)\n",
    "\n",
    "\"\"\"\n",
    "\n",
    "proofs_list = proof.strip().split('\\n')\n",
    "\n",
    "print(proofs_list)\n",
    "\n"
   ]
  },
  {
   "cell_type": "code",
   "execution_count": 9,
   "metadata": {},
   "outputs": [
    {
     "name": "stdout",
     "output_type": "stream",
     "text": [
      "output:  \n",
      "input:--Max = Variable(\"Max\")--\n",
      "output:  \n",
      "input:----\n",
      "output:  \n",
      "input:----\n",
      "output:  \n",
      "input:--class yumpus(Relation):--\n",
      "output:  \n",
      "input:--    def __init__(self, *args):  # seq of args--\n",
      "output:  \n",
      "input:--        Relation.__init__(self, *args)--\n",
      "output:  \n",
      "input:----\n",
      "output:  \n",
      "input:----\n",
      "output:  \n",
      "input:--class dumpus(Relation):--\n",
      "output:  \n",
      "input:--    def __init__(self, *args):  # seq of args--\n",
      "output:  \n",
      "input:--        Relation.__init__(self, *args)--\n",
      "output:  \n",
      "input:----\n",
      "output:  \n",
      "input:----\n",
      "output:  \n",
      "input:--class wumpus(Relation):--\n",
      "output:  \n",
      "input:--    def __init__(self, *args):  # seq of args--\n",
      "output:  \n",
      "input:--        Relation.__init__(self, *args)--\n",
      "output:  \n",
      "input:----\n",
      "output:  \n",
      "input:----\n",
      "output:  \n",
      "input:--class impus(Relation):--\n",
      "output:  \n",
      "input:--    def __init__(self, *args):  # seq of args--\n",
      "output:  \n",
      "input:--        Relation.__init__(self, *args)--\n",
      "output:  \n",
      "input:----\n",
      "output:  \n",
      "input:----\n",
      "output:  \n",
      "input:--class timpus(Relation):--\n",
      "output:  \n",
      "input:--    def __init__(self, *args):  # seq of args--\n",
      "output:  \n",
      "input:--        Relation.__init__(self, *args)--\n",
      "output:  \n",
      "input:----\n",
      "output:  \n",
      "input:----\n",
      "output:  \n",
      "input:--class sour(Relation):--\n",
      "output:  \n",
      "input:--    def __init__(self, *args):  # seq of args--\n",
      "output:  \n",
      "input:--        Relation.__init__(self, *args)--\n",
      "output:  \n",
      "input:----\n",
      "output:  \n",
      "input:--checkp(Text(\"test2\"), comment)--\n",
      "output:  te\n",
      "input:--checkp(A(x, Impl(yumpus(x), (dumpus(x)))), given)--\n",
      "output:  \n",
      "input:--checkp(A(x, Impl(dumpus(x), (wumpus(x)))), given)--\n",
      "output:  \n",
      "input:--checkp(A(x, Impl(wumpus(x), (impus(x)))), given)--\n",
      "output:  \n",
      "input:--checkp(A(x, Impl(impus(x), (timpus(x)))), given)--\n",
      "output:  \n",
      "input:--checkp(A(x, Impl(timpus(x), Not(sour(x)))), given)--\n",
      "output:  \n",
      "input:--checkp(yumpus(Max), given)--\n",
      "output:  \n",
      "input:--state()--\n",
      "output:  \n",
      "\n",
      "output:  \n",
      "\n",
      "output:  \n",
      "\n",
      "output:  \n",
      "\n",
      "output:  \n",
      "\n",
      "output:  \n",
      "\n",
      "output:  \n",
      "\n",
      "output:  \n",
      "\n",
      "output:  \n",
      "\n",
      "output:   Comment\n",
      "\n",
      " Comment\n",
      "\n",
      "output:  Ax.(yumpus\n",
      "Ax.(yumpus\n",
      "output:  -> dumpus(\n",
      "-> dumpus(\n"
     ]
    }
   ],
   "source": [
    "# get an instance\n",
    "\n",
    "\n",
    "wrap = FlipWrapper()\n",
    "\n",
    "# start\n",
    "\n",
    "try:\n",
    "    state = wrap.start(\n",
    "        axioms_list\n",
    "    )\n",
    "    print(state)\n",
    "except Exception as e:\n",
    "    print(f\"An error occurred: {str(e)}\")\n",
    "    \n",
    "try:\n",
    "    for proof_step in proofs_list:\n",
    "        state = wrap.run_proof_step(proof_step)\n",
    "        print(state)\n",
    "except Exception as e:\n",
    "    print(f\"An error occurred: {str(e)}\")\n",
    "    \n",
    "wrap.terminate()"
   ]
  },
  {
   "cell_type": "code",
   "execution_count": 10,
   "metadata": {},
   "outputs": [
    {
     "data": {
      "text/plain": [
       "['Max = Variable(\"Max\")',\n",
       " '',\n",
       " '',\n",
       " 'class yumpus(Relation):',\n",
       " '    def __init__(self, *args):  # seq of args',\n",
       " '        Relation.__init__(self, *args)',\n",
       " '']"
      ]
     },
     "execution_count": 10,
     "metadata": {},
     "output_type": "execute_result"
    }
   ],
   "source": [
    "axioms_list[:7]"
   ]
  },
  {
   "cell_type": "code",
   "execution_count": 11,
   "metadata": {},
   "outputs": [
    {
     "data": {
      "text/plain": [
       "''"
      ]
     },
     "execution_count": 11,
     "metadata": {},
     "output_type": "execute_result"
    }
   ],
   "source": [
    "\"    \".replace(\" \", \"\")"
   ]
  },
  {
   "cell_type": "code",
   "execution_count": 12,
   "metadata": {},
   "outputs": [
    {
     "data": {
      "text/plain": [
       "''"
      ]
     },
     "execution_count": 12,
     "metadata": {},
     "output_type": "execute_result"
    }
   ],
   "source": [
    "\"aaaaa\".replace(\"a\", \"\")"
   ]
  },
  {
   "cell_type": "code",
   "execution_count": null,
   "metadata": {},
   "outputs": [],
   "source": []
  }
 ],
 "metadata": {
  "kernelspec": {
   "display_name": "Python 3 (ipykernel)",
   "language": "python",
   "name": "python3"
  },
  "language_info": {
   "codemirror_mode": {
    "name": "ipython",
    "version": 3
   },
   "file_extension": ".py",
   "mimetype": "text/x-python",
   "name": "python",
   "nbconvert_exporter": "python",
   "pygments_lexer": "ipython3",
   "version": "3.11.9"
  }
 },
 "nbformat": 4,
 "nbformat_minor": 4
}
