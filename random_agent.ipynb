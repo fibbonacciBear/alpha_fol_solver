{
 "cells": [
  {
   "cell_type": "code",
   "execution_count": 1,
   "metadata": {},
   "outputs": [
    {
     "name": "stderr",
     "output_type": "stream",
     "text": [
      "/Users/akashganesan/anaconda3/envs/drlzh/lib/python3.11/site-packages/tqdm/auto.py:21: TqdmWarning: IProgress not found. Please update jupyter and ipywidgets. See https://ipywidgets.readthedocs.io/en/stable/user_install.html\n",
      "  from .autonotebook import tqdm as notebook_tqdm\n"
     ]
    },
    {
     "name": "stdout",
     "output_type": "stream",
     "text": [
      "32\n",
      "found a proof on attempt 24\n",
      "True False\n",
      "Sample problem as FliP FOL statements                         (0)  Comment\n",
      "Ax.(Mammal(x) -> WarmBlooded(x))                              (1)  Given\n",
      "Mammal(Sally)                                                 (2)  Given\n",
      "WarmBlooded(Sally)                                            (3)  Goal\n",
      "Mammal(Sally) -> WarmBlooded(Sally)                           (4)  A-Elimination (1), with Sally\n",
      "Mammal(Sally) -> WarmBlooded(Sally)                           (5)  A-Elimination (1), with Sally\n",
      "WarmBlooded(Sally)                                            (6)  Implication-Elimination (Modus Ponens) (5) (2)\n",
      "\n",
      "31\n",
      "[True, True, True, True, True, True, True, True, True, True, False, True, True, True, True, True, True, True, False, True]\n"
     ]
    },
    {
     "name": "stderr",
     "output_type": "stream",
     "text": [
      "/Users/akashganesan/anaconda3/envs/drlzh/lib/python3.11/site-packages/gymnasium/core.py:311: UserWarning: \u001b[33mWARN: env.action_masks to get variables from other wrappers is deprecated and will be removed in v1.0, to get this variable you can do `env.unwrapped.action_masks` for environment variables or `env.get_wrapper_attr('action_masks')` that will search the reminding wrappers.\u001b[0m\n",
      "  logger.warn(\n"
     ]
    }
   ],
   "source": [
    "import gymnasium as gym\n",
    "import logic_gym\n",
    "from logic_gym.wrappers import TextToBoxWrapper\n",
    "\n",
    "base_env = gym.make(\"logic_gym/LogicGym-v0\")\n",
    "env = TextToBoxWrapper(base_env)\n",
    "\n",
    "observation, info = env.reset()\n",
    "# print(observation)\n",
    "\n",
    "NUM_ATTEMPTS = 500\n",
    "\n",
    "for i in range(NUM_ATTEMPTS):\n",
    "    observation, info = env.reset()\n",
    "    terminated, truncated = False, False\n",
    "    while not terminated and not truncated:\n",
    "        action = env.action_space.sample()  # agent policy that uses the observation and info\n",
    "        observation, reward, terminated, truncated, info = env.step(action)\n",
    "    if(i%25 == 0):\n",
    "        print(env.unwrapped.get_stats())\n",
    "    if terminated:\n",
    "        print(\"found a proof on attempt\", i)\n",
    "        break\n",
    "\n",
    "print(terminated, truncated)\n",
    "# print(observation)\n",
    "print(env.unwrapped.get_state_for_humans())\n",
    "print(env.unwrapped.get_stats())\n",
    "arr = env.action_masks()\n",
    "print(arr)\n",
    "env.close()\n",
    "\n",
    "\n",
    "\n"
   ]
  },
  {
   "cell_type": "code",
   "execution_count": 2,
   "metadata": {},
   "outputs": [
    {
     "name": "stdout",
     "output_type": "stream",
     "text": [
      "[69 52 73 94 45  4 23 19 69 68 44  0 12 15 11  4 94 15 17 14  1 11  4 12\n",
      " 94  0 18 94 31 11  8 41 94 31 40 37 94 18 19  0 19  4 12  4 13 19 18 68\n",
      " 70 73 94  2 14 12 12  4 13 19 73 94 70 95 69 53 73 94 26 69 23 73 94 34\n",
      " 12 15 11 69 38  0 12 12  0 11 69 23 70 73 48  0 17 12 27 11 14 14  3  4\n",
      "  3 69 23 70 70 70 73 94  6  8 21  4 13 73 94 70 95 69 54 73 94 38  0 12\n",
      " 12  0 11 69 44  0 11 11 24 70 73 94  6  8 21  4 13 73 94 70 95 69 55 73\n",
      " 94 48  0 17 12 27 11 14 14  3  4  3 69 44  0 11 11 24 70 73 94  6 14  0\n",
      " 11 73 94 70 95 94 94 94 94 94 94 94 94 94 94 94 94 94 94 94 94 94 94 94\n",
      " 94 94 94 94 94 94 94 94 94 94 94 94 94 94 94 94 94 94 94 94 94 94 94 94\n",
      " 94 94 94 94 94 94 94 94 94 94 94 94 94 94 94 94 94 94 94 94 94 94 94 94\n",
      " 94 94 94 94 94 94 94 94 94 94 94 94 94 94 94 94 94 94 94 94 94 94 94 94\n",
      " 94 94 94 94 94 94 94 94 94 94 94 94 94 94 94 94 94 94 94 94 94 94 94 94\n",
      " 94 94 94 94 94 94 94 94 94 94 94 94 94 94 94 94 94 94 94 94 94 94 94 94\n",
      " 94 94 94 94 94 94 94 94 94 94 94 94 94 94 94 94 94 94 94 94 94 94 94 94\n",
      " 94 94 94 94 94 94 94 94 94 94 94 94 94 94 94 94 94 94 94 94 94 94 94 94\n",
      " 94 94 94 94 94 94 94 94 94 94 94 94 94 94 94 94 94 94 94 94 94 94 94 94\n",
      " 94 94 94 94 94 94 94 94 94 94 94 94 94 94 94 94 94 94 94 94 94 94 94 94\n",
      " 94 94 94 94 94 94 94 94 94 94 94 94 94 94 94 94 94 94 94 94 94 94 94 94\n",
      " 94 94 94 94 94 94 94 94 94 94 94 94 94 94 94 94 94 94 94 94 94 94 94 94\n",
      " 94 94 94 94 94 94 94 94 94 94 94 94 94 94 94 94 94 94 94 94 94 94 94 94\n",
      " 94 94 94 94 94 94 94 94 94 94 94 94 94 94 94 94 94 94 94 94 94 94 94 94\n",
      " 94 94 94 94 94 94 94 94 94 94 94 94 94 94 94 94 94 94 94 94 94 94 94 94\n",
      " 94 94 94 94 94 94 94 94 94 94 94 94 94 94 94 94 94 94 94 94 94 94 94 94\n",
      " 94 94 94 94 94 94 94 94 94 94 94 94 94 94 94 94 94 94 94 94 94 94 94 94\n",
      " 94 94 94 94 94 94 94 94 94 94 94 94 94 94 94 94 94 94 94 94 94 94 94 94\n",
      " 94 94 94 94 94 94 94 94 94 94 94 94 94 94 94 94 94 94 94 94 94 94 94 94\n",
      " 94 94 94 94 94 94 94 94 94 94 94 94 94 94 94 94 94 94 94 94 94 94 94 94\n",
      " 94 94 94 94 94 94 94 94 94 94 94 94 94 94 94 94 94 94 94 94 94 94 94 94\n",
      " 94 94 94 94 94 94 94 94 94 94 94 94 94 94 94 94 94 94 94 94 94 94 94 94\n",
      " 94 94 94 94 94 94 94 94 94 94 94 94 94 94 94 94 94 94 94 94 94 94 94 94\n",
      " 94 94 94 94 94 94 94 94 94 94 94 94 94 94 94 94 94 94 94 94 94 94 94 94\n",
      " 94 94 94 94 94 94 94 94 94 94 94 94 94 94 94 94 94 94 94 94 94 94 94 94]\n",
      "False True\n",
      "[69 52 73 94 45  4 23 19 69 68 44  0 12 15 11  4 94 15 17 14  1 11  4 12\n",
      " 94  0 18 94 31 11  8 41 94 31 40 37 94 18 19  0 19  4 12  4 13 19 18 68\n",
      " 70 73 94  2 14 12 12  4 13 19 73 94 70 95 69 53 73 94 26 69 23 73 94 34\n",
      " 12 15 11 69 38  0 12 12  0 11 69 23 70 73 48  0 17 12 27 11 14 14  3  4\n",
      "  3 69 23 70 70 70 73 94  6  8 21  4 13 73 94 70 95 69 54 73 94 38  0 12\n",
      " 12  0 11 69 44  0 11 11 24 70 73 94  6  8 21  4 13 73 94 70 95 69 55 73\n",
      " 94 48  0 17 12 27 11 14 14  3  4  3 69 44  0 11 11 24 70 73 94  6 14  0\n",
      " 11 73 94 70 95 69 56 73 94 34 12 15 11 69 38  0 12 12  0 11 69 44  0 11\n",
      " 11 24 70 73 48  0 17 12 27 11 14 14  3  4  3 69 44  0 11 11 24 70 70 73\n",
      " 94 26  4 73 94 53 73 94 44  0 11 11 24 70 95 94 94 94 94 94 94 94 94 94\n",
      " 94 94 94 94 94 94 94 94 94 94 94 94 94 94 94 94 94 94 94 94 94 94 94 94\n",
      " 94 94 94 94 94 94 94 94 94 94 94 94 94 94 94 94 94 94 94 94 94 94 94 94\n",
      " 94 94 94 94 94 94 94 94 94 94 94 94 94 94 94 94 94 94 94 94 94 94 94 94\n",
      " 94 94 94 94 94 94 94 94 94 94 94 94 94 94 94 94 94 94 94 94 94 94 94 94\n",
      " 94 94 94 94 94 94 94 94 94 94 94 94 94 94 94 94 94 94 94 94 94 94 94 94\n",
      " 94 94 94 94 94 94 94 94 94 94 94 94 94 94 94 94 94 94 94 94 94 94 94 94\n",
      " 94 94 94 94 94 94 94 94 94 94 94 94 94 94 94 94 94 94 94 94 94 94 94 94\n",
      " 94 94 94 94 94 94 94 94 94 94 94 94 94 94 94 94 94 94 94 94 94 94 94 94\n",
      " 94 94 94 94 94 94 94 94 94 94 94 94 94 94 94 94 94 94 94 94 94 94 94 94\n",
      " 94 94 94 94 94 94 94 94 94 94 94 94 94 94 94 94 94 94 94 94 94 94 94 94\n",
      " 94 94 94 94 94 94 94 94 94 94 94 94 94 94 94 94 94 94 94 94 94 94 94 94\n",
      " 94 94 94 94 94 94 94 94 94 94 94 94 94 94 94 94 94 94 94 94 94 94 94 94\n",
      " 94 94 94 94 94 94 94 94 94 94 94 94 94 94 94 94 94 94 94 94 94 94 94 94\n",
      " 94 94 94 94 94 94 94 94 94 94 94 94 94 94 94 94 94 94 94 94 94 94 94 94\n",
      " 94 94 94 94 94 94 94 94 94 94 94 94 94 94 94 94 94 94 94 94 94 94 94 94\n",
      " 94 94 94 94 94 94 94 94 94 94 94 94 94 94 94 94 94 94 94 94 94 94 94 94\n",
      " 94 94 94 94 94 94 94 94 94 94 94 94 94 94 94 94 94 94 94 94 94 94 94 94\n",
      " 94 94 94 94 94 94 94 94 94 94 94 94 94 94 94 94 94 94 94 94 94 94 94 94\n",
      " 94 94 94 94 94 94 94 94 94 94 94 94 94 94 94 94 94 94 94 94 94 94 94 94\n",
      " 94 94 94 94 94 94 94 94 94 94 94 94 94 94 94 94 94 94 94 94 94 94 94 94\n",
      " 94 94 94 94 94 94 94 94 94 94 94 94 94 94 94 94 94 94 94 94 94 94 94 94\n",
      " 94 94 94 94 94 94 94 94 94 94 94 94 94 94 94 94 94 94 94 94 94 94 94 94]\n",
      "Sample problem as FliP FOL statements                         (0)  Comment\n",
      "Ax.(Mammal(x) -> WarmBlooded(x))                              (1)  Given\n",
      "Mammal(Sally)                                                 (2)  Given\n",
      "WarmBlooded(Sally)                                            (3)  Goal\n",
      "Mammal(Sally) -> WarmBlooded(Sally)                           (4)  A-Elimination (1), with Sally\n",
      "\n",
      "32\n"
     ]
    },
    {
     "name": "stderr",
     "output_type": "stream",
     "text": [
      "/Users/akashganesan/anaconda3/envs/drlzh/lib/python3.11/site-packages/gymnasium/core.py:311: UserWarning: \u001b[33mWARN: env.get_state_for_humans to get variables from other wrappers is deprecated and will be removed in v1.0, to get this variable you can do `env.unwrapped.get_state_for_humans` for environment variables or `env.get_wrapper_attr('get_state_for_humans')` that will search the reminding wrappers.\u001b[0m\n",
      "  logger.warn(\n",
      "/Users/akashganesan/anaconda3/envs/drlzh/lib/python3.11/site-packages/gymnasium/core.py:311: UserWarning: \u001b[33mWARN: env.get_stats to get variables from other wrappers is deprecated and will be removed in v1.0, to get this variable you can do `env.unwrapped.get_stats` for environment variables or `env.get_wrapper_attr('get_stats')` that will search the reminding wrappers.\u001b[0m\n",
      "  logger.warn(\n"
     ]
    }
   ],
   "source": [
    "import gymnasium as gym\n",
    "import logic_gym\n",
    "from logic_gym.wrappers.text_to_box_wrapper import TextToBoxWrapper\n",
    "base_env = gym.make(\"logic_gym/LogicGym-v0\")\n",
    "env = TextToBoxWrapper(base_env)\n",
    "\n",
    "observation, info = env.reset()\n",
    "print(observation)\n",
    "\n",
    "terminated, truncated = False, False\n",
    "while not terminated and not truncated:\n",
    "    action = env.action_space.sample()  # agent policy that uses the observation and info\n",
    "    observation, reward, terminated, truncated, info = env.step(action)\n",
    "env.close()\n",
    "\n",
    "print(terminated, truncated)\n",
    "print(observation)\n",
    "print(env.get_state_for_humans())\n",
    "print(env.get_stats())"
   ]
  },
  {
   "cell_type": "code",
   "execution_count": 3,
   "metadata": {},
   "outputs": [
    {
     "data": {
      "text/plain": [
       "[True, True, True]"
      ]
     },
     "execution_count": 3,
     "metadata": {},
     "output_type": "execute_result"
    }
   ],
   "source": [
    "[True * 3, True * 5 + False * 3, True * 5 + False * 3, True * 1]\n",
    "\n",
    "[True] * 3\n"
   ]
  },
  {
   "cell_type": "code",
   "execution_count": null,
   "metadata": {},
   "outputs": [],
   "source": []
  }
 ],
 "metadata": {
  "kernelspec": {
   "display_name": "drlzh",
   "language": "python",
   "name": "python3"
  },
  "language_info": {
   "codemirror_mode": {
    "name": "ipython",
    "version": 3
   },
   "file_extension": ".py",
   "mimetype": "text/x-python",
   "name": "python",
   "nbconvert_exporter": "python",
   "pygments_lexer": "ipython3",
   "version": "3.11.9"
  }
 },
 "nbformat": 4,
 "nbformat_minor": 2
}
