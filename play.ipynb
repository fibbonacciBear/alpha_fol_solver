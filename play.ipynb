{
 "cells": [
  {
   "cell_type": "code",
   "execution_count": 1,
   "metadata": {},
   "outputs": [],
   "source": [
    "import gymnasium as gym\n",
    "import logic_gym\n",
    "import json\n",
    "import os\n",
    "import pprint as pp\n",
    "\n"
   ]
  },
  {
   "cell_type": "code",
   "execution_count": 5,
   "metadata": {},
   "outputs": [
    {
     "name": "stdout",
     "output_type": "stream",
     "text": [
      "(0, Text('Sample problem as FliP FOL statements'), comment, )\n",
      "(1, A(x, Impl(Mammal(x),WarmBlooded(x))), given, )\n",
      "(2, Mammal(Sally), given, )\n",
      "(3, WarmBlooded(Sally), goal, )\n",
      " {'bad_action': False}\n",
      "Sample problem as FliP FOL statements                         (0)  Comment\n",
      "Ax.(Mammal(x) -> WarmBlooded(x))                              (1)  Given\n",
      "Mammal(Sally)                                                 (2)  Given\n",
      "WarmBlooded(Sally)                                            (3)  Goal\n",
      "Mammal(Sally) -> WarmBlooded(Sally)                           (4)  A-Elimination (1), with Sally\n",
      "\n",
      "Sample problem as FliP FOL statements                         (0)  Comment\n",
      "Ax.(Mammal(x) -> WarmBlooded(x))                              (1)  Given\n",
      "Mammal(Sally)                                                 (2)  Given\n",
      "WarmBlooded(Sally)                                            (3)  Goal\n",
      "Mammal(Sally) -> WarmBlooded(Sally)                           (4)  A-Elimination (1), with Sally\n",
      "WarmBlooded(Sally)                                            (5)  Implication-Elimination (Modus Ponens) (4) (2)\n",
      "\n",
      "Sample problem as FliP FOL statements                         (0)  Comment\n",
      "Ax.(Mammal(x) -> WarmBlooded(x))                              (1)  Given\n",
      "Mammal(Sally)                                                 (2)  Given\n",
      "WarmBlooded(Sally)                                            (3)  Goal\n",
      "Mammal(Sally) -> WarmBlooded(Sally)                           (4)  A-Elimination (1), with Sally\n",
      "\n"
     ]
    },
    {
     "name": "stderr",
     "output_type": "stream",
     "text": [
      "/home/akash/anaconda3/envs/fol/lib/python3.11/site-packages/gymnasium/core.py:311: UserWarning: \u001b[33mWARN: env.get_state to get variables from other wrappers is deprecated and will be removed in v1.0, to get this variable you can do `env.unwrapped.get_state` for environment variables or `env.get_wrapper_attr('get_state')` that will search the reminding wrappers.\u001b[0m\n",
      "  logger.warn(\n",
      "/home/akash/anaconda3/envs/fol/lib/python3.11/site-packages/gymnasium/core.py:311: UserWarning: \u001b[33mWARN: env.get_state_for_humans to get variables from other wrappers is deprecated and will be removed in v1.0, to get this variable you can do `env.unwrapped.get_state_for_humans` for environment variables or `env.get_wrapper_attr('get_state_for_humans')` that will search the reminding wrappers.\u001b[0m\n",
      "  logger.warn(\n",
      "/home/akash/anaconda3/envs/fol/lib/python3.11/site-packages/gymnasium/core.py:311: UserWarning: \u001b[33mWARN: env.set_state to get variables from other wrappers is deprecated and will be removed in v1.0, to get this variable you can do `env.unwrapped.set_state` for environment variables or `env.get_wrapper_attr('set_state')` that will search the reminding wrappers.\u001b[0m\n",
      "  logger.warn(\n"
     ]
    }
   ],
   "source": [
    "env = gym.make(\"logic_gym/LogicGym-v0\")\n",
    "obs, info = env.reset()\n",
    "\n",
    "print(obs,info)\n",
    "\n",
    "observation, reward, terminated, truncated, info = env.step([0,1,0,0])\n",
    "\n",
    "state = env.get_state()\n",
    "\n",
    "print(env.get_state_for_humans())\n",
    "\n",
    "\n",
    "observation, reward, terminated, truncated, info = env.step([1,4,2,0])\n",
    "\n",
    "print(env.get_state_for_humans())\n",
    "\n",
    "env.set_state(state)\n",
    "\n",
    "print(env.get_state_for_humans())\n",
    "\n",
    "\n",
    "\n"
   ]
  }
 ],
 "metadata": {
  "kernelspec": {
   "display_name": "fol",
   "language": "python",
   "name": "python3"
  },
  "language_info": {
   "codemirror_mode": {
    "name": "ipython",
    "version": 3
   },
   "file_extension": ".py",
   "mimetype": "text/x-python",
   "name": "python",
   "nbconvert_exporter": "python",
   "pygments_lexer": "ipython3",
   "version": "3.11.9"
  }
 },
 "nbformat": 4,
 "nbformat_minor": 2
}
