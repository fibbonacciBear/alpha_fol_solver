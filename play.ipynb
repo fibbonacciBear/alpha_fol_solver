{
 "cells": [
  {
   "cell_type": "code",
   "execution_count": 1,
   "metadata": {},
   "outputs": [],
   "source": [
    "import gymnasium as gym\n",
    "import logic_gym\n",
    "import json\n",
    "import os\n",
    "import pprint as pp\n",
    "\n"
   ]
  },
  {
   "cell_type": "code",
   "execution_count": 3,
   "metadata": {},
   "outputs": [
    {
     "name": "stderr",
     "output_type": "stream",
     "text": [
      "/home/akash/anaconda3/envs/fol/lib/python3.11/site-packages/gymnasium/core.py:311: UserWarning: \u001b[33mWARN: env.get_variables to get variables from other wrappers is deprecated and will be removed in v1.0, to get this variable you can do `env.unwrapped.get_variables` for environment variables or `env.get_wrapper_attr('get_variables')` that will search the reminding wrappers.\u001b[0m\n",
      "  logger.warn(\n",
      "/home/akash/anaconda3/envs/fol/lib/python3.11/site-packages/gymnasium/core.py:311: UserWarning: \u001b[33mWARN: env.get_task to get variables from other wrappers is deprecated and will be removed in v1.0, to get this variable you can do `env.unwrapped.get_task` for environment variables or `env.get_wrapper_attr('get_task')` that will search the reminding wrappers.\u001b[0m\n",
      "  logger.warn(\n"
     ]
    },
    {
     "data": {
      "text/plain": [
       "['# Variables', 'Sally']"
      ]
     },
     "execution_count": 3,
     "metadata": {},
     "output_type": "execute_result"
    }
   ],
   "source": [
    "# def get_variables(axioms_list):\n",
    "#     variables = []\n",
    "#     for axiom in axioms_list:\n",
    "#         if \"Variable\" in axiom:\n",
    "#             variables.append(axiom.split(\" = \")[0])\n",
    "#     return variables\n",
    "\n",
    "\n",
    "env = gym.make(\"logic_gym/LogicGym-v0\")\n",
    "obs, info = env.reset()\n",
    "\n",
    "\n",
    "env.get_variables(env.get_task().split(\"\\n\"))\n",
    "\n",
    "# print(env.get_state_for_humans())\n",
    "\n",
    "\n",
    "# observation, reward, terminated, truncated, info = env.step([1,4,2,0])\n",
    "\n",
    "# print(env.get_state_for_humans())\n",
    "\n",
    "# env.set_state(state)\n",
    "\n",
    "# print(env.get_state_for_humans())\n",
    "\n",
    "\n",
    "\n"
   ]
  },
  {
   "cell_type": "code",
   "execution_count": 3,
   "metadata": {},
   "outputs": [
    {
     "name": "stdout",
     "output_type": "stream",
     "text": [
      "[1, 7, 5, 2, 6, 9, 3, 4, 8]\n"
     ]
    }
   ],
   "source": [
    "import random\n",
    "x =[1,2,3,4,5,6,7,8,9] \n",
    "random.shuffle(x)\n",
    "\n",
    "print(x)"
   ]
  },
  {
   "cell_type": "code",
   "execution_count": null,
   "metadata": {},
   "outputs": [],
   "source": []
  }
 ],
 "metadata": {
  "kernelspec": {
   "display_name": "fol",
   "language": "python",
   "name": "python3"
  },
  "language_info": {
   "codemirror_mode": {
    "name": "ipython",
    "version": 3
   },
   "file_extension": ".py",
   "mimetype": "text/x-python",
   "name": "python",
   "nbconvert_exporter": "python",
   "pygments_lexer": "ipython3",
   "version": "3.11.9"
  }
 },
 "nbformat": 4,
 "nbformat_minor": 2
}
